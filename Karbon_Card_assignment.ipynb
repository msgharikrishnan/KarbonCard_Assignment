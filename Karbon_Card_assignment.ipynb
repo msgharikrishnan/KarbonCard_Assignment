{
 "cells": [
  {
   "cell_type": "code",
   "execution_count": 7,
   "id": "cfebe15d",
   "metadata": {},
   "outputs": [],
   "source": [
    "### Importing required libraries.\n",
    "import pandas as pd\n",
    "import numpy as np\n",
    "import math\n",
    "import re\n",
    "import os\n",
    "import json"
   ]
  },
  {
   "cell_type": "markdown",
   "id": "ef1ef93a",
   "metadata": {},
   "source": [
    "### Problem 2:"
   ]
  },
  {
   "cell_type": "code",
   "execution_count": 76,
   "id": "afede991",
   "metadata": {},
   "outputs": [],
   "source": [
    "def sol2(x):\n",
    "   # parse x:\n",
    "    y = json.loads(x)\n",
    "    op = [None]*len(y)# initializing output to the length of input\n",
    "    #print(y)\n",
    "    for i in range(0,len(y)):\n",
    "        description = str(y[i]['description'])\n",
    "        num_rooms = y[i]['num_bedrooms']\n",
    "        if \"studio\" in description or \"1-bedroom\" in description:\n",
    "            \n",
    "            # turning to lower case letters\n",
    "            description = description.lower()\n",
    "            #remove punctuations\n",
    "            description = description.replace(r'[^\\w\\d\\s]',' ')\n",
    "            #split into a list\n",
    "            s = description.split()\n",
    "            if \"studio\" in s:\n",
    "                indes = s.index(\"studio\")\n",
    "                inde1 = 0\n",
    "            else:\n",
    "                inde1 = s.index(\"1-bedroom\")\n",
    "                indes = 0\n",
    "            \n",
    "            if (\"yoga\" == s[indes-1] or \"art\" == s[indes-1] or \"dance\" == s[indes-1]) and \"1-bedroom\" in s and \"studio\" in s:\n",
    "                op[i] = 1\n",
    "            elif (\"yoga\" == s[inde1-1] or \"art\" == s[inde1-1] or \"dance\" == s[inde1-1]) and \"1-bedroom\" in s and \"studio\" in s:\n",
    "                op[i] = 0\n",
    "            elif (\"1-bedroom\" in s):\n",
    "                op[i] = 1\n",
    "            else:\n",
    "                op[i] = 0\n",
    "        else:\n",
    "            op[i] = num_rooms\n",
    "    return op \n",
    "    "
   ]
  },
  {
   "cell_type": "code",
   "execution_count": 77,
   "id": "e5de74a0",
   "metadata": {},
   "outputs": [
    {
     "name": "stdout",
     "output_type": "stream",
     "text": [
      "[{\"id\": \"3\", \"agent\": \"Ton Jett\", \"unit\": \"#12\", \"description\": \"Beautiful 1-bedroom apartment with nearby yoga studio.\", \"num_bedrooms\": 1}]\n"
     ]
    }
   ],
   "source": [
    "var = [{\n",
    "  \"id\": \"3\",\n",
    "  \"agent\": \"Ton Jett\",\n",
    "  \"unit\": \"#12\",\n",
    "  \"description\": \"Beautiful 1-bedroom apartment with nearby yoga studio.\",\n",
    "  \"num_bedrooms\": 1\n",
    "}]\n",
    "x = json.dumps(var)\n",
    "print(x)\n"
   ]
  },
  {
   "cell_type": "code",
   "execution_count": 78,
   "id": "a5280349",
   "metadata": {},
   "outputs": [
    {
     "name": "stdout",
     "output_type": "stream",
     "text": [
      "[1]\n"
     ]
    }
   ],
   "source": [
    "y = sol2(x)\n",
    "print(y)"
   ]
  },
  {
   "cell_type": "markdown",
   "id": "70f444cf",
   "metadata": {},
   "source": [
    "## Problem 1:"
   ]
  },
  {
   "cell_type": "code",
   "execution_count": 79,
   "id": "59322848",
   "metadata": {},
   "outputs": [],
   "source": [
    "lst = [[1, 2, 0],\n",
    "[0, 1, 1],\n",
    "[5, 6, 5]]"
   ]
  },
  {
   "cell_type": "code",
   "execution_count": 93,
   "id": "2e216559",
   "metadata": {},
   "outputs": [],
   "source": [
    "#Defining a function:\n",
    "from sklearn.impute import SimpleImputer\n",
    "\n",
    "def sol1(lst):\n",
    "    df = pd.DataFrame(lst)\n",
    "    imputer = SimpleImputer()\n",
    "    # making 0's to np.nan for ease\n",
    "    df.replace(0,np.nan, inplace = True)\n",
    "    #We will use a SimpleImputer with a default strategy of 'mean' to impute the missing values\n",
    "    df_imputed = pd.DataFrame(imputer.fit_transform(df))\n",
    "    final_df = df_imputed.values.tolist()\n",
    "    return final_df\n",
    "    \n",
    "    "
   ]
  },
  {
   "cell_type": "code",
   "execution_count": 94,
   "id": "9455b8e8",
   "metadata": {},
   "outputs": [
    {
     "data": {
      "text/plain": [
       "[[1.0, 2.0, 3.0], [3.0, 1.0, 1.0], [5.0, 6.0, 5.0]]"
      ]
     },
     "execution_count": 94,
     "metadata": {},
     "output_type": "execute_result"
    }
   ],
   "source": [
    "df = sol1(lst)\n",
    "df"
   ]
  }
 ],
 "metadata": {
  "kernelspec": {
   "display_name": "Python 3 (ipykernel)",
   "language": "python",
   "name": "python3"
  },
  "language_info": {
   "codemirror_mode": {
    "name": "ipython",
    "version": 3
   },
   "file_extension": ".py",
   "mimetype": "text/x-python",
   "name": "python",
   "nbconvert_exporter": "python",
   "pygments_lexer": "ipython3",
   "version": "3.11.0"
  }
 },
 "nbformat": 4,
 "nbformat_minor": 5
}
